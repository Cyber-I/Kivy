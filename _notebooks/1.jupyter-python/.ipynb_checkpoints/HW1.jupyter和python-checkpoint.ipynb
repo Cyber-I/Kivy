{
 "cells": [
  {
   "cell_type": "markdown",
   "metadata": {},
   "source": [
    "# 课后练习\n",
    "\n",
    "\n",
    "1. 练习形式：4道编程题，每题5分，共20分\n",
    "1. 使用方法：复制或下载作业notebook，修改文件名为本人，编写并测试代码\n",
    "2. 提交方式：上传或push到gitlab项目/1.jupyter和python文件夹中\n",
    "\n"
   ]
  },
  {
   "cell_type": "markdown",
   "metadata": {
    "ExecuteTime": {
     "end_time": "2020-05-04T08:18:23.173884Z",
     "start_time": "2020-05-04T08:18:23.165026Z"
    }
   },
   "source": [
    "# 题目\n",
    "\n",
    "以哈利·波特7本书英文版为素材，编程解决以下5道题，均在harry_potter文件夹中，书名如下："
   ]
  },
  {
   "cell_type": "code",
   "execution_count": 1,
   "metadata": {
    "ExecuteTime": {
     "end_time": "2020-05-04T08:25:47.032434Z",
     "start_time": "2020-05-04T08:25:46.911800Z"
    }
   },
   "outputs": [
    {
     "name": "stdout",
     "output_type": "stream",
     "text": [
      "1.哈利·波特与魔法石1997.txt        5.哈利·波特与凤凰社2003.txt\r\n",
      "2.哈利·波特与密室1998.txt          6.哈利·波特与混血王子2005.txt\r\n",
      "3.哈利·波特与阿兹卡班囚徒1999.txt  7.哈利·波特与死亡圣器2007.txt\r\n",
      "4.哈利·波特与火焰杯2000.txt\r\n"
     ]
    }
   ],
   "source": [
    "ls harry_potter/"
   ]
  },
  {
   "cell_type": "markdown",
   "metadata": {},
   "source": [
    "**1. 实现一个函数`clean_line(book_name)`，剔除每一本书中的空行、“Page | N”开头的页眉（加粗部分）（5分）**\n",
    "\n",
    "\n",
    "\n",
    "\n",
    "\n",
    "THE BOY WHO LIVED   \n",
    "  \n",
    "...  \n",
    "  \n",
    "The Dursleys had everything they wanted, but they   \n",
    "also had a secret, and their greatest fear was that   \n",
    "somebody would discover it. They didn’t think they   \n",
    "could bear it if anyone found out about the Potters.   \n",
    "Mrs. Potter was Mrs. Dursley’s sister, but they hadn’t   \n",
    "\n",
    "\n",
    "**Page | 2 Harry Potter and the Philosophers Stone - J.K. Rowling**\n",
    "\n",
    "...\n",
    "\n",
    "**Page | 3 Harry Potter and the Philosophers Stone - J.K. Rowling** \n"
   ]
  },
  {
   "cell_type": "code",
   "execution_count": null,
   "metadata": {},
   "outputs": [],
   "source": [
    "# 在这里写下你的代码"
   ]
  },
  {
   "cell_type": "markdown",
   "metadata": {},
   "source": [
    "**2. 实现一个函数`clean_token()`，继续清洗每本书经`clean_line(book_name)`处理后的数据：剔除标点符号，转换为小写字符，并提取每本书所有单词，返回一个Python字典，键为书名，值为对应书中单词列表（5分）**"
   ]
  },
  {
   "cell_type": "code",
   "execution_count": null,
   "metadata": {},
   "outputs": [],
   "source": [
    "# 在这里写下你的代码"
   ]
  },
  {
   "cell_type": "markdown",
   "metadata": {},
   "source": [
    "**3. 实现一个函数`token_count()`统计每本书经`clean_token()`处理后的数据：计算每本书长度>4的单词频次，返回一个Python字典，键为书名，值也是一个字典：将为对应书中单词，值为单词频次，且按照频次从高到底排序（5分）**\n",
    "\n",
    "\n"
   ]
  },
  {
   "cell_type": "code",
   "execution_count": null,
   "metadata": {},
   "outputs": [],
   "source": [
    "# 在这里写下你的代码"
   ]
  },
  {
   "cell_type": "markdown",
   "metadata": {},
   "source": [
    "**4. 实现一个函数`token_union()`合并7本书经`token_count()`处理后的数据，返回一个Python字典，键为7本书单词并集，值为单词在7本书的总频次，且按照频次从高到底排序（5分）**\n"
   ]
  },
  {
   "cell_type": "code",
   "execution_count": null,
   "metadata": {},
   "outputs": [],
   "source": [
    "# 在这里写下你的代码"
   ]
  }
 ],
 "metadata": {
  "kernelspec": {
   "display_name": "Python 3",
   "language": "python",
   "name": "python3"
  },
  "language_info": {
   "codemirror_mode": {
    "name": "ipython",
    "version": 3
   },
   "file_extension": ".py",
   "mimetype": "text/x-python",
   "name": "python",
   "nbconvert_exporter": "python",
   "pygments_lexer": "ipython3",
   "version": "3.7.7"
  },
  "toc": {
   "base_numbering": 1,
   "nav_menu": {},
   "number_sections": true,
   "sideBar": true,
   "skip_h1_title": false,
   "title_cell": "Table of Contents",
   "title_sidebar": "Contents",
   "toc_cell": false,
   "toc_position": {},
   "toc_section_display": true,
   "toc_window_display": false
  }
 },
 "nbformat": 4,
 "nbformat_minor": 4
}
