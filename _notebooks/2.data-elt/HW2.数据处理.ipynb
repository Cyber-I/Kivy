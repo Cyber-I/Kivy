{
 "cells": [
  {
   "cell_type": "markdown",
   "metadata": {},
   "source": [
    "# 课后练习\n",
    "\n",
    "\n",
    "1. 练习形式：4道编程题，每题5分，共20分\n",
    "1. 使用方法：复制或下载作业notebook，修改文件名为本人，编写并测试代码\n",
    "2. 提交方式：上传或push到gitlab项目/2.数据处理文件夹中\n",
    "\n"
   ]
  },
  {
   "cell_type": "markdown",
   "metadata": {
    "ExecuteTime": {
     "end_time": "2020-05-04T08:18:23.173884Z",
     "start_time": "2020-05-04T08:18:23.165026Z"
    }
   },
   "source": [
    "# 题目\n",
    "\n",
    "以贵州茅台每日股票价格为例，编程解决以下4道题：(推荐使用pandas)"
   ]
  },
  {
   "cell_type": "code",
   "execution_count": 1,
   "metadata": {
    "ExecuteTime": {
     "end_time": "2020-05-14T13:09:11.500586Z",
     "start_time": "2020-05-14T13:09:10.662519Z"
    }
   },
   "outputs": [],
   "source": [
    "from snowball import get_stock\n",
    "\n",
    "data = get_stock(\"SH600519\")  # 贵州茅台"
   ]
  },
  {
   "cell_type": "code",
   "execution_count": 2,
   "metadata": {
    "ExecuteTime": {
     "end_time": "2020-05-14T13:09:11.528970Z",
     "start_time": "2020-05-14T13:09:11.503064Z"
    },
    "scrolled": true
   },
   "outputs": [
    {
     "data": {
      "text/html": [
       "<div>\n",
       "<style scoped>\n",
       "    .dataframe tbody tr th:only-of-type {\n",
       "        vertical-align: middle;\n",
       "    }\n",
       "\n",
       "    .dataframe tbody tr th {\n",
       "        vertical-align: top;\n",
       "    }\n",
       "\n",
       "    .dataframe thead th {\n",
       "        text-align: right;\n",
       "    }\n",
       "</style>\n",
       "<table border=\"1\" class=\"dataframe\">\n",
       "  <thead>\n",
       "    <tr style=\"text-align: right;\">\n",
       "      <th></th>\n",
       "      <th>timestamp</th>\n",
       "      <th>volume</th>\n",
       "      <th>open</th>\n",
       "      <th>high</th>\n",
       "      <th>low</th>\n",
       "      <th>close</th>\n",
       "      <th>chg</th>\n",
       "      <th>percent</th>\n",
       "      <th>turnoverrate</th>\n",
       "      <th>amount</th>\n",
       "      <th>volume_post</th>\n",
       "      <th>amount_post</th>\n",
       "    </tr>\n",
       "    <tr>\n",
       "      <th>timestamp</th>\n",
       "      <th></th>\n",
       "      <th></th>\n",
       "      <th></th>\n",
       "      <th></th>\n",
       "      <th></th>\n",
       "      <th></th>\n",
       "      <th></th>\n",
       "      <th></th>\n",
       "      <th></th>\n",
       "      <th></th>\n",
       "      <th></th>\n",
       "      <th></th>\n",
       "    </tr>\n",
       "  </thead>\n",
       "  <tbody>\n",
       "    <tr>\n",
       "      <th>2001-08-27 00:00:00+08:00</th>\n",
       "      <td>998841600000</td>\n",
       "      <td>40631800</td>\n",
       "      <td>4.6083</td>\n",
       "      <td>5.0449</td>\n",
       "      <td>4.3866</td>\n",
       "      <td>4.7472</td>\n",
       "      <td>0.5554</td>\n",
       "      <td>13.25</td>\n",
       "      <td>56.83</td>\n",
       "      <td>1.410347e+09</td>\n",
       "      <td>None</td>\n",
       "      <td>None</td>\n",
       "    </tr>\n",
       "    <tr>\n",
       "      <th>2001-08-28 00:00:00+08:00</th>\n",
       "      <td>998928000000</td>\n",
       "      <td>12964779</td>\n",
       "      <td>4.6724</td>\n",
       "      <td>4.9408</td>\n",
       "      <td>4.6216</td>\n",
       "      <td>4.9221</td>\n",
       "      <td>0.1747</td>\n",
       "      <td>3.68</td>\n",
       "      <td>18.13</td>\n",
       "      <td>4.634631e+08</td>\n",
       "      <td>None</td>\n",
       "      <td>None</td>\n",
       "    </tr>\n",
       "    <tr>\n",
       "      <th>2001-08-29 00:00:00+08:00</th>\n",
       "      <td>999014400000</td>\n",
       "      <td>5325275</td>\n",
       "      <td>4.9381</td>\n",
       "      <td>4.9408</td>\n",
       "      <td>4.8206</td>\n",
       "      <td>4.8580</td>\n",
       "      <td>-0.0640</td>\n",
       "      <td>-1.30</td>\n",
       "      <td>7.45</td>\n",
       "      <td>1.946896e+08</td>\n",
       "      <td>None</td>\n",
       "      <td>None</td>\n",
       "    </tr>\n",
       "    <tr>\n",
       "      <th>2001-08-30 00:00:00+08:00</th>\n",
       "      <td>999100800000</td>\n",
       "      <td>4801306</td>\n",
       "      <td>4.8446</td>\n",
       "      <td>5.0089</td>\n",
       "      <td>4.8072</td>\n",
       "      <td>4.9541</td>\n",
       "      <td>0.0962</td>\n",
       "      <td>1.98</td>\n",
       "      <td>6.72</td>\n",
       "      <td>1.775586e+08</td>\n",
       "      <td>None</td>\n",
       "      <td>None</td>\n",
       "    </tr>\n",
       "    <tr>\n",
       "      <th>2001-08-31 00:00:00+08:00</th>\n",
       "      <td>999187200000</td>\n",
       "      <td>2323148</td>\n",
       "      <td>4.9608</td>\n",
       "      <td>5.0236</td>\n",
       "      <td>4.9141</td>\n",
       "      <td>4.9421</td>\n",
       "      <td>-0.0119</td>\n",
       "      <td>-0.24</td>\n",
       "      <td>3.25</td>\n",
       "      <td>8.623124e+07</td>\n",
       "      <td>None</td>\n",
       "      <td>None</td>\n",
       "    </tr>\n",
       "  </tbody>\n",
       "</table>\n",
       "</div>"
      ],
      "text/plain": [
       "                              timestamp    volume    open    high     low  \\\n",
       "timestamp                                                                   \n",
       "2001-08-27 00:00:00+08:00  998841600000  40631800  4.6083  5.0449  4.3866   \n",
       "2001-08-28 00:00:00+08:00  998928000000  12964779  4.6724  4.9408  4.6216   \n",
       "2001-08-29 00:00:00+08:00  999014400000   5325275  4.9381  4.9408  4.8206   \n",
       "2001-08-30 00:00:00+08:00  999100800000   4801306  4.8446  5.0089  4.8072   \n",
       "2001-08-31 00:00:00+08:00  999187200000   2323148  4.9608  5.0236  4.9141   \n",
       "\n",
       "                            close     chg  percent  turnoverrate  \\\n",
       "timestamp                                                          \n",
       "2001-08-27 00:00:00+08:00  4.7472  0.5554    13.25         56.83   \n",
       "2001-08-28 00:00:00+08:00  4.9221  0.1747     3.68         18.13   \n",
       "2001-08-29 00:00:00+08:00  4.8580 -0.0640    -1.30          7.45   \n",
       "2001-08-30 00:00:00+08:00  4.9541  0.0962     1.98          6.72   \n",
       "2001-08-31 00:00:00+08:00  4.9421 -0.0119    -0.24          3.25   \n",
       "\n",
       "                                 amount volume_post amount_post  \n",
       "timestamp                                                        \n",
       "2001-08-27 00:00:00+08:00  1.410347e+09        None        None  \n",
       "2001-08-28 00:00:00+08:00  4.634631e+08        None        None  \n",
       "2001-08-29 00:00:00+08:00  1.946896e+08        None        None  \n",
       "2001-08-30 00:00:00+08:00  1.775586e+08        None        None  \n",
       "2001-08-31 00:00:00+08:00  8.623124e+07        None        None  "
      ]
     },
     "execution_count": 2,
     "metadata": {},
     "output_type": "execute_result"
    }
   ],
   "source": [
    "data.head()"
   ]
  },
  {
   "cell_type": "code",
   "execution_count": 3,
   "metadata": {
    "ExecuteTime": {
     "end_time": "2020-05-14T13:09:11.549493Z",
     "start_time": "2020-05-14T13:09:11.530994Z"
    },
    "scrolled": true
   },
   "outputs": [
    {
     "data": {
      "text/html": [
       "<div>\n",
       "<style scoped>\n",
       "    .dataframe tbody tr th:only-of-type {\n",
       "        vertical-align: middle;\n",
       "    }\n",
       "\n",
       "    .dataframe tbody tr th {\n",
       "        vertical-align: top;\n",
       "    }\n",
       "\n",
       "    .dataframe thead th {\n",
       "        text-align: right;\n",
       "    }\n",
       "</style>\n",
       "<table border=\"1\" class=\"dataframe\">\n",
       "  <thead>\n",
       "    <tr style=\"text-align: right;\">\n",
       "      <th></th>\n",
       "      <th>timestamp</th>\n",
       "      <th>volume</th>\n",
       "      <th>open</th>\n",
       "      <th>high</th>\n",
       "      <th>low</th>\n",
       "      <th>close</th>\n",
       "      <th>chg</th>\n",
       "      <th>percent</th>\n",
       "      <th>turnoverrate</th>\n",
       "      <th>amount</th>\n",
       "      <th>volume_post</th>\n",
       "      <th>amount_post</th>\n",
       "    </tr>\n",
       "    <tr>\n",
       "      <th>timestamp</th>\n",
       "      <th></th>\n",
       "      <th></th>\n",
       "      <th></th>\n",
       "      <th></th>\n",
       "      <th></th>\n",
       "      <th></th>\n",
       "      <th></th>\n",
       "      <th></th>\n",
       "      <th></th>\n",
       "      <th></th>\n",
       "      <th></th>\n",
       "      <th></th>\n",
       "    </tr>\n",
       "  </thead>\n",
       "  <tbody>\n",
       "    <tr>\n",
       "      <th>2020-05-08 00:00:00+08:00</th>\n",
       "      <td>1588867200000</td>\n",
       "      <td>2907868</td>\n",
       "      <td>1317.0</td>\n",
       "      <td>1338.00</td>\n",
       "      <td>1308.51</td>\n",
       "      <td>1314.61</td>\n",
       "      <td>2.61</td>\n",
       "      <td>0.20</td>\n",
       "      <td>0.23</td>\n",
       "      <td>3.839218e+09</td>\n",
       "      <td>None</td>\n",
       "      <td>None</td>\n",
       "    </tr>\n",
       "    <tr>\n",
       "      <th>2020-05-11 00:00:00+08:00</th>\n",
       "      <td>1589126400000</td>\n",
       "      <td>2367119</td>\n",
       "      <td>1320.0</td>\n",
       "      <td>1335.00</td>\n",
       "      <td>1313.67</td>\n",
       "      <td>1323.01</td>\n",
       "      <td>8.40</td>\n",
       "      <td>0.64</td>\n",
       "      <td>0.19</td>\n",
       "      <td>3.135991e+09</td>\n",
       "      <td>None</td>\n",
       "      <td>None</td>\n",
       "    </tr>\n",
       "    <tr>\n",
       "      <th>2020-05-12 00:00:00+08:00</th>\n",
       "      <td>1589212800000</td>\n",
       "      <td>1972181</td>\n",
       "      <td>1318.0</td>\n",
       "      <td>1334.99</td>\n",
       "      <td>1316.00</td>\n",
       "      <td>1333.00</td>\n",
       "      <td>9.99</td>\n",
       "      <td>0.76</td>\n",
       "      <td>0.16</td>\n",
       "      <td>2.621825e+09</td>\n",
       "      <td>None</td>\n",
       "      <td>None</td>\n",
       "    </tr>\n",
       "    <tr>\n",
       "      <th>2020-05-13 00:00:00+08:00</th>\n",
       "      <td>1589299200000</td>\n",
       "      <td>2201431</td>\n",
       "      <td>1333.0</td>\n",
       "      <td>1337.99</td>\n",
       "      <td>1322.88</td>\n",
       "      <td>1335.95</td>\n",
       "      <td>2.95</td>\n",
       "      <td>0.22</td>\n",
       "      <td>0.18</td>\n",
       "      <td>2.931465e+09</td>\n",
       "      <td>None</td>\n",
       "      <td>None</td>\n",
       "    </tr>\n",
       "    <tr>\n",
       "      <th>2020-05-14 00:00:00+08:00</th>\n",
       "      <td>1589385600000</td>\n",
       "      <td>1857492</td>\n",
       "      <td>1330.0</td>\n",
       "      <td>1334.88</td>\n",
       "      <td>1325.11</td>\n",
       "      <td>1326.59</td>\n",
       "      <td>-9.36</td>\n",
       "      <td>-0.70</td>\n",
       "      <td>0.15</td>\n",
       "      <td>2.467976e+09</td>\n",
       "      <td>None</td>\n",
       "      <td>None</td>\n",
       "    </tr>\n",
       "  </tbody>\n",
       "</table>\n",
       "</div>"
      ],
      "text/plain": [
       "                               timestamp   volume    open     high      low  \\\n",
       "timestamp                                                                     \n",
       "2020-05-08 00:00:00+08:00  1588867200000  2907868  1317.0  1338.00  1308.51   \n",
       "2020-05-11 00:00:00+08:00  1589126400000  2367119  1320.0  1335.00  1313.67   \n",
       "2020-05-12 00:00:00+08:00  1589212800000  1972181  1318.0  1334.99  1316.00   \n",
       "2020-05-13 00:00:00+08:00  1589299200000  2201431  1333.0  1337.99  1322.88   \n",
       "2020-05-14 00:00:00+08:00  1589385600000  1857492  1330.0  1334.88  1325.11   \n",
       "\n",
       "                             close   chg  percent  turnoverrate        amount  \\\n",
       "timestamp                                                                       \n",
       "2020-05-08 00:00:00+08:00  1314.61  2.61     0.20          0.23  3.839218e+09   \n",
       "2020-05-11 00:00:00+08:00  1323.01  8.40     0.64          0.19  3.135991e+09   \n",
       "2020-05-12 00:00:00+08:00  1333.00  9.99     0.76          0.16  2.621825e+09   \n",
       "2020-05-13 00:00:00+08:00  1335.95  2.95     0.22          0.18  2.931465e+09   \n",
       "2020-05-14 00:00:00+08:00  1326.59 -9.36    -0.70          0.15  2.467976e+09   \n",
       "\n",
       "                          volume_post amount_post  \n",
       "timestamp                                          \n",
       "2020-05-08 00:00:00+08:00        None        None  \n",
       "2020-05-11 00:00:00+08:00        None        None  \n",
       "2020-05-12 00:00:00+08:00        None        None  \n",
       "2020-05-13 00:00:00+08:00        None        None  \n",
       "2020-05-14 00:00:00+08:00        None        None  "
      ]
     },
     "execution_count": 3,
     "metadata": {},
     "output_type": "execute_result"
    }
   ],
   "source": [
    "data.tail()"
   ]
  },
  {
   "cell_type": "markdown",
   "metadata": {},
   "source": [
    "**1. 编写函数volatility_weekday计算历史2001-2020年所有周一至周五的最低价（high）与最高价（low）的波动率（$ \\frac {high} {low} -1$），周几股价波动率最高？**"
   ]
  },
  {
   "cell_type": "code",
   "execution_count": 4,
   "metadata": {
    "ExecuteTime": {
     "end_time": "2020-05-14T13:09:11.562188Z",
     "start_time": "2020-05-14T13:09:11.559971Z"
    }
   },
   "outputs": [],
   "source": [
    "# 在这里写下你的代码"
   ]
  },
  {
   "cell_type": "markdown",
   "metadata": {},
   "source": [
    "**2. 编写函数close_roi计算收盘价（close）特征。在2001-2020年历年的单月中，哪个月的涨幅最高（涨幅多少？），哪个月的涨幅最低（涨幅多少？），涨幅最高的月份分布集中（频次统计）吗？**"
   ]
  },
  {
   "cell_type": "code",
   "execution_count": 5,
   "metadata": {
    "ExecuteTime": {
     "end_time": "2020-05-14T13:09:11.562188Z",
     "start_time": "2020-05-14T13:09:11.559971Z"
    }
   },
   "outputs": [],
   "source": [
    "# 在这里写下你的代码"
   ]
  },
  {
   "cell_type": "markdown",
   "metadata": {},
   "source": [
    "**3. 编写函数ma_close_year计算每日收盘价（close）在过去365天均值（年线），统计每年低于年线的交易天数与占比**"
   ]
  },
  {
   "cell_type": "code",
   "execution_count": 6,
   "metadata": {
    "ExecuteTime": {
     "end_time": "2020-05-14T13:09:11.562188Z",
     "start_time": "2020-05-14T13:09:11.559971Z"
    }
   },
   "outputs": [],
   "source": [
    "# 在这里写下你的代码"
   ]
  },
  {
   "cell_type": "code",
   "execution_count": 7,
   "metadata": {
    "ExecuteTime": {
     "end_time": "2020-05-14T13:09:11.568591Z",
     "start_time": "2020-05-14T13:09:11.564365Z"
    }
   },
   "outputs": [
    {
     "data": {
      "text/plain": [
       "Index(['timestamp', 'volume', 'open', 'high', 'low', 'close', 'chg', 'percent',\n",
       "       'turnoverrate', 'amount', 'volume_post', 'amount_post'],\n",
       "      dtype='object')"
      ]
     },
     "execution_count": 7,
     "metadata": {},
     "output_type": "execute_result"
    }
   ],
   "source": [
    "data.columns"
   ]
  },
  {
   "cell_type": "markdown",
   "metadata": {},
   "source": [
    "**4. 编写函数corr_matrix计算volume、open、close、percent、turnoverrate特征相互间的三类相关系数。哪两个变量的相关系数最高？**\n",
    "\n",
    "[三类相关系数](http://www.crickcollege.com/news/164.html)：\n",
    "\n",
    "1. Pearson积差相关系数\n",
    "2. Spearman秩相关系数\n",
    "3. Kendall秩相关系数\n",
    "\n",
    "> python实现可参考：https://www.cnblogs.com/yjd_hycf_space/p/11537153.html"
   ]
  },
  {
   "cell_type": "code",
   "execution_count": 8,
   "metadata": {
    "ExecuteTime": {
     "end_time": "2020-05-14T13:09:11.573304Z",
     "start_time": "2020-05-14T13:09:11.570877Z"
    }
   },
   "outputs": [],
   "source": [
    "# 在这里写下你的代码"
   ]
  }
 ],
 "metadata": {
  "kernelspec": {
   "display_name": "Python 3",
   "language": "python",
   "name": "python3"
  },
  "language_info": {
   "codemirror_mode": {
    "name": "ipython",
    "version": 3
   },
   "file_extension": ".py",
   "mimetype": "text/x-python",
   "name": "python",
   "nbconvert_exporter": "python",
   "pygments_lexer": "ipython3",
   "version": "3.7.7"
  },
  "toc": {
   "base_numbering": 1,
   "nav_menu": {},
   "number_sections": true,
   "sideBar": true,
   "skip_h1_title": false,
   "title_cell": "Table of Contents",
   "title_sidebar": "Contents",
   "toc_cell": false,
   "toc_position": {},
   "toc_section_display": true,
   "toc_window_display": false
  }
 },
 "nbformat": 4,
 "nbformat_minor": 4
}
