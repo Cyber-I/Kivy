{
 "cells": [
  {
   "cell_type": "markdown",
   "metadata": {
    "slideshow": {
     "slide_type": "slide"
    }
   },
   "source": [
    "# Python数据科学分享——5.推荐系统\n",
    "\n",
    "> Bandit算法解决EE(Explore VS Exploit)问题，为A/B测试与推荐系统提供新思路\n",
    "\n",
    "- toc: true \n",
    "- badges: true\n",
    "- comments: true\n",
    "- categories: [jupyter,Python,Data Science]\n",
    "\n"
   ]
  },
  {
   "cell_type": "markdown",
   "metadata": {
    "ExecuteTime": {
     "end_time": "2020-07-08T03:58:48.532304Z",
     "start_time": "2020-07-08T03:58:48.525146Z"
    },
    "slideshow": {
     "slide_type": "-"
    }
   },
   "source": [
    "<img src=\"5.data-recs/markmap.png\" alt=\"map\" width=\"700\"/>"
   ]
  },
  {
   "cell_type": "code",
   "execution_count": 1,
   "metadata": {
    "ExecuteTime": {
     "end_time": "2020-07-08T14:57:18.165415Z",
     "start_time": "2020-07-08T14:57:16.921818Z"
    },
    "slideshow": {
     "slide_type": "slide"
    }
   },
   "outputs": [],
   "source": [
    "# %matplotlib widget\n",
    "from matplotlib.font_manager import _rebuild\n",
    "\n",
    "_rebuild()\n",
    "import matplotlib.pyplot as plt\n",
    "import seaborn as sns\n",
    "\n",
    "sns.set_style(\"whitegrid\", {\"font.sans-serif\": [\"SimHei\", \"Arial\"]})\n",
    "\n",
    "import warnings\n",
    "\n",
    "warnings.filterwarnings(\"ignore\")\n",
    "import time\n",
    "import numpy as np\n",
    "from scipy import stats\n",
    "\n",
    "import pandas as pd\n",
    "from sklearn.preprocessing import StandardScaler\n",
    "from mabwiser.mab import MAB, LearningPolicy, NeighborhoodPolicy"
   ]
  },
  {
   "cell_type": "markdown",
   "metadata": {
    "slideshow": {
     "slide_type": "slide"
    }
   },
   "source": [
    "|时间|事件|\n",
    "|:-:|:-:|\n",
    "|1891|美国Sittman与Pitt发明老虎机|\n",
    "|1987|学者提出多臂老虎机问题(multi-armed bandit problem，MAB）|\n",
    "|1997|使用Thompson采样(1933)解决MAB问题|\n",
    "|1998|ϵ贪婪算法（epsilon-Greedy Algorithm)|\n",
    "|2002|UCB算法(Upper Confidence Bound，置信区间上界)|\n",
    "|2010|Yahoo!提出LinUCB算法|\n",
    "|2020年2月|美国康奈尔大学与阿里巴巴共同提出了PSLinUCB|"
   ]
  },
  {
   "cell_type": "markdown",
   "metadata": {
    "slideshow": {
     "slide_type": "slide"
    }
   },
   "source": [
    "# EE(Explore VS Exploit)问题\n",
    "\n",
    "[EE，Explore VS Exploit](https://www.youtube.com/watch?v=2pWv7GOvuf0&list=PLzuuYNsE1EZAXYR4FJ75jcJseBmo4KQ9-)：一种运筹学概念，任何profit-seeking系统的基本条件，平衡探索新模型(exploration)与维护旧模型的收益最大化(exploitation)\n",
    "    1. Explore：A/B实验，惊喜猎奇，新颖多样；强化学习（reinforcement learning）\n",
    "    1. Exploit：物以类聚、人以群分，尽力迎合用户，使收益最大化（profit maximization）\n",
    "\n",
    "<img src=\"5.data-recs/ee.png\" alt=\"map\" width=\"500\"/>"
   ]
  },
  {
   "cell_type": "markdown",
   "metadata": {
    "slideshow": {
     "slide_type": "slide"
    }
   },
   "source": [
    "# A/B测试\n",
    "\n",
    "\n",
    "A/B测试分两个阶段进行：\n",
    "1. Explore阶段：用户分A/B组进行两个模型的对照实验，一段时间内检查两组实验效果\n",
    "2. Exploit阶段：假设A效果优于B，那么将A组模型覆盖所有用户，放弃B模型\n",
    "\n",
    "问题：\n",
    "\n",
    "1. 流量从Explore阶段直接切换到Exploit阶段，缺少平滑过渡，风险较大\n",
    "2. 在Explore阶段，为了收集足够多的对照数据在B组上浪费资源，在实验时间上没有弹性"
   ]
  },
  {
   "cell_type": "markdown",
   "metadata": {
    "slideshow": {
     "slide_type": "slide"
    }
   },
   "source": [
    "# Bandit算法\n",
    "\n",
    "解决问题：在任意时间任意A/B配置空间做出至今最好的决策，使目标函数收敛\n",
    "1. 根据实验进展结果，平滑地减少实验数量，避免一刀切\n",
    "2. 尽可能将资源集中在效果好的实验A上，从而降低资源浪费"
   ]
  },
  {
   "cell_type": "markdown",
   "metadata": {
    "slideshow": {
     "slide_type": "slide"
    }
   },
   "source": [
    "概率论的[多臂老虎机问题(multi-armed bandit problem，MAB）](https://en.wikipedia.org/wiki/Multi-armed_bandit)。\n",
    "\n",
    "假设有3个老虎机在你面前，每台老虎机中奖概率不同，玩哪个老虎机可以做到长期收益最大化？\n",
    "\n",
    "<img src=\"5.data-recs/bandit.png\" alt=\"map\" width=\"700\"/>"
   ]
  },
  {
   "cell_type": "markdown",
   "metadata": {
    "ExecuteTime": {
     "end_time": "2020-07-06T10:07:31.450388Z",
     "start_time": "2020-07-06T10:07:31.444124Z"
    },
    "slideshow": {
     "slide_type": "slide"
    }
   },
   "source": [
    "<img src=\"5.data-recs/bern_bandit.png\" alt=\"map\" width=\"700\"/>\n",
    "\n",
    "1. 摇臂（Arm）：一种选择对应一个摇臂。例如，用户点击哪个房屋？一个房屋是一个Arm\n",
    "2. 收益（Reward）:选择结果的量化指标。例如，用户点击了3次房屋A，那么得到的收益+3，优于点击2次"
   ]
  },
  {
   "cell_type": "code",
   "execution_count": 2,
   "metadata": {
    "ExecuteTime": {
     "end_time": "2020-07-08T14:57:18.179590Z",
     "start_time": "2020-07-08T14:57:18.168456Z"
    },
    "slideshow": {
     "slide_type": "slide"
    }
   },
   "outputs": [],
   "source": [
    "class Bandit(object):\n",
    "    def __init__(self, n, probas=None):\n",
    "        \"\"\"\n",
    "        Parameters:\n",
    "            n：老虎机arm的数量\n",
    "            probas：每个老虎机arm中奖概率列表\n",
    "        \"\"\"\n",
    "        self.n = n\n",
    "        if probas is None:\n",
    "            np.random.seed(int(time.time()))\n",
    "            self.probas = np.random.random(self.n)\n",
    "        else:\n",
    "            self.probas = probas\n",
    "\n",
    "        self.best_proba = max(self.probas)\n",
    "\n",
    "    def generate_reward(self, i):\n",
    "        \"\"\"\n",
    "        选择第i台老虎机，计算收益\n",
    "        \"\"\"\n",
    "        if np.random.random() < self.probas[i]:\n",
    "            return 1\n",
    "        else:\n",
    "            return 0"
   ]
  },
  {
   "cell_type": "code",
   "execution_count": 3,
   "metadata": {
    "ExecuteTime": {
     "end_time": "2020-07-08T14:57:18.194661Z",
     "start_time": "2020-07-08T14:57:18.183009Z"
    },
    "slideshow": {
     "slide_type": "slide"
    }
   },
   "outputs": [
    {
     "data": {
      "text/plain": [
       "array([0.63347486, 0.14875777, 0.27710719])"
      ]
     },
     "execution_count": 3,
     "metadata": {},
     "output_type": "execute_result"
    }
   ],
   "source": [
    "mab = Bandit(3)\n",
    "\n",
    "mab.probas"
   ]
  },
  {
   "cell_type": "code",
   "execution_count": 4,
   "metadata": {
    "ExecuteTime": {
     "end_time": "2020-07-08T14:57:18.203123Z",
     "start_time": "2020-07-08T14:57:18.197279Z"
    }
   },
   "outputs": [
    {
     "name": "stdout",
     "output_type": "stream",
     "text": [
      "[0, 1, 1]\n",
      "[0, 0, 0]\n",
      "[1, 0, 0]\n",
      "[0, 0, 0]\n",
      "[1, 0, 1]\n",
      "[0, 0, 1]\n",
      "[0, 0, 0]\n",
      "[0, 1, 0]\n",
      "[1, 1, 1]\n",
      "[0, 0, 0]\n"
     ]
    }
   ],
   "source": [
    "# 试验10次（10个时间步）的收益\n",
    "\n",
    "for n in range(10):\n",
    "    print([mab.generate_reward(i) for i in range(mab.n)])"
   ]
  },
  {
   "cell_type": "markdown",
   "metadata": {
    "slideshow": {
     "slide_type": "slide"
    }
   },
   "source": [
    "# 累积遗憾（Cumulative regret）\n",
    "\n",
    "假设每个老虎机每次的收益的服从伯努利分布，取值1或0\n",
    "\n",
    "\n",
    "$\n",
    "\\begin{aligned}\n",
    "R_{T} &=\\sum_{i=1}^{T}\\left(w^{*}-w_{B(i)}\\right) \\\\\n",
    "&=T w^{*}-\\sum_{i=1}^{T} w_{B(i)}\n",
    "\\end{aligned}\n",
    "$\n",
    "\n",
    "其中，\n",
    "\n",
    "T：表示尝试的次数  \n",
    "$w^{*}$：表示所有老虎机中的最大收益  \n",
    "$w_{B(i)}$：表示第 i 次试验时被选中老虎机的期望收益  "
   ]
  },
  {
   "cell_type": "code",
   "execution_count": 5,
   "metadata": {
    "ExecuteTime": {
     "end_time": "2020-07-08T14:57:18.226162Z",
     "start_time": "2020-07-08T14:57:18.213811Z"
    },
    "slideshow": {
     "slide_type": "slide"
    }
   },
   "outputs": [],
   "source": [
    "class Solver(object):\n",
    "    def __init__(self, bandit):\n",
    "        \"\"\"\n",
    "        Parameters:\n",
    "            bandit (Bandit): N个老虎机arm\n",
    "        \"\"\"\n",
    "        np.random.seed(int(time.time()))\n",
    "        self.bandit = bandit\n",
    "        self.counts = np.zeros(self.bandit.n)\n",
    "        self.actions = []  # 选择结果列表\n",
    "        self.regret = 0  # 累积遗憾\n",
    "        self.regrets = [0]  # 累积遗憾列表\n",
    "\n",
    "    def update_regret(self, i):\n",
    "        self.regret += self.bandit.best_proba - self.bandit.probas[i]\n",
    "        self.regrets.append(self.regret)\n",
    "\n",
    "    @property\n",
    "    def estimated_probas(self):\n",
    "        raise NotImplementedError\n",
    "\n",
    "    def run_one_step(self):\n",
    "        \"\"\"返回当前进行试验老虎机arm索引\"\"\"\n",
    "        raise NotImplementedError\n",
    "\n",
    "    def run(self, num_steps):\n",
    "        assert self.bandit is not None\n",
    "        for _ in range(num_steps):\n",
    "            i = self.run_one_step()\n",
    "            self.counts[i] += 1\n",
    "            self.actions.append(i)\n",
    "            self.update_regret(i)"
   ]
  },
  {
   "cell_type": "markdown",
   "metadata": {
    "slideshow": {
     "slide_type": "slide"
    }
   },
   "source": [
    "# ϵ贪婪算法\n",
    "\n",
    "ϵ贪婪算法（epsilon-Greedy Algorithm，1998年提出）是一种在当前作出利益最大化的选择（exploit）的贪婪算法，使用ϵ参数调节以实现探索（explore）的效果。概率分布如下：\n",
    "\n",
    "1. 1 – ϵ：Exploit维持旧模型\n",
    "2. ϵ / 2：Explore尝试最好或最差实验\n",
    "3. ϵ=1：均匀探索所有arm，导致资源浪费\n",
    "3. ϵ=0：停止探索，仅仅维持旧模型\n",
    "\n",
    "<img src=\"5.data-recs/epsilon-Greedy.png\" alt=\"map\" width=\"700\"/>"
   ]
  },
  {
   "cell_type": "code",
   "execution_count": 6,
   "metadata": {
    "ExecuteTime": {
     "end_time": "2020-07-08T14:57:18.240822Z",
     "start_time": "2020-07-08T14:57:18.231230Z"
    },
    "slideshow": {
     "slide_type": "slide"
    }
   },
   "outputs": [],
   "source": [
    "class EpsilonGreedy(Solver):\n",
    "    def __init__(self, bandit, eps, init_proba=1):\n",
    "        \"\"\"\n",
    "        Parameters:\n",
    "            eps (float): 每一步探索的概率\n",
    "            init_proba (float): 老虎机初始概率，默认为1\n",
    "        \"\"\"\n",
    "        super(EpsilonGreedy, self).__init__(bandit)\n",
    "\n",
    "        self.eps = eps\n",
    "        self.estimates = init_proba * np.ones(self.bandit.n)\n",
    "\n",
    "    @property\n",
    "    def estimated_probas(self):\n",
    "        return self.estimates\n",
    "\n",
    "    def run_one_step(self):\n",
    "        if np.random.random() < self.eps:\n",
    "            i = np.random.randint(0, self.bandit.n)\n",
    "        else:\n",
    "            i = np.argmax(self.estimates)\n",
    "\n",
    "        r = self.bandit.generate_reward(i)\n",
    "        self.estimates[i] += 1 / (self.counts[i] + 1) * (r - self.estimates[i])\n",
    "\n",
    "        return i"
   ]
  },
  {
   "cell_type": "code",
   "execution_count": 7,
   "metadata": {
    "ExecuteTime": {
     "end_time": "2020-07-08T14:57:18.264522Z",
     "start_time": "2020-07-08T14:57:18.244190Z"
    },
    "slideshow": {
     "slide_type": "skip"
    }
   },
   "outputs": [],
   "source": [
    "def plot_results(solvers, solver_names, figname):\n",
    "    \"\"\"\n",
    "    绘制bandit算法效果图\n",
    "    Parameters:\n",
    "        solvers (list<Solver>): 算法实例\n",
    "        solver_names (list<str)：算法实例显示名称\n",
    "        figname (str)：\n",
    "    \"\"\"\n",
    "    b = solvers[0].bandit\n",
    "\n",
    "    fig, ax = plt.subplots(1, 3, figsize=(14, 5))\n",
    "    fig.subplots_adjust(bottom=0.3, wspace=0.3)\n",
    "\n",
    "    # 1. 遗憾随时间变化\n",
    "    for i, s in enumerate(solvers):\n",
    "        ax[0].plot(range(len(s.regrets)), s.regrets, label=solver_names[i])\n",
    "\n",
    "    ax[0].set_xlabel(\"试验次数\")\n",
    "    ax[0].set_ylabel(\"累计遗憾\")\n",
    "    ax[0].legend(loc=9, bbox_to_anchor=(1.82, -0.25), ncol=5)\n",
    "    ax[0].grid(\"k\", ls=\"--\", alpha=0.3)\n",
    "\n",
    "    # 2. 算法参数估计\n",
    "    sorted_indices = sorted(range(b.n), key=lambda x: b.probas[x])\n",
    "    ax[1].plot(range(b.n), [b.probas[x] for x in sorted_indices], \"k--\", markersize=12)\n",
    "    for s in solvers:\n",
    "        ax[1].plot(\n",
    "            range(b.n),\n",
    "            [s.estimated_probas[x] for x in sorted_indices],\n",
    "            \"x\",\n",
    "            markeredgewidth=2,\n",
    "        )\n",
    "    ax[1].set_xlabel(\"按收益率排序的老虎机\")\n",
    "    ax[1].set_ylabel(\"估计收益率\")\n",
    "    ax[1].grid(\"k\", ls=\"--\", alpha=0.3)\n",
    "\n",
    "    # 3.\n",
    "    for s in solvers:\n",
    "        ax[2].plot(\n",
    "            range(b.n), np.array(s.counts) / len(solvers[0].regrets), ls=\"steps\", lw=2,\n",
    "        )\n",
    "    ax[2].set_xlabel(\"老虎机\")\n",
    "    ax[2].set_ylabel(\"中奖占比\")\n",
    "    ax[2].grid(\"k\", ls=\"--\", alpha=0.3)\n",
    "\n",
    "    plt.savefig(f'5.data-recs/{figname}')\n",
    "\n",
    "\n",
    "def experiment(tag, b, K, N, test_solvers, names):\n",
    "    \"\"\"\n",
    "    使用K个带随机收益率的老虎机进行N次试验\n",
    "    Parameters:\n",
    "        K (int): 老虎机数量\n",
    "        N (int): 试验次数\n",
    "    \"\"\"\n",
    "\n",
    "    print(f\"老虎机收益率:\\n{b.probas}\")\n",
    "    print(f\"最佳老虎机: {np.argmax(b.probas)} 收益率: {max(b.probas)}\")\n",
    "\n",
    "    for s in test_solvers:\n",
    "        s.run(N)\n",
    "\n",
    "    plot_results(test_solvers, names, f\"{tag}_K{K}_N{N}.png\")"
   ]
  },
  {
   "cell_type": "code",
   "execution_count": 8,
   "metadata": {
    "ExecuteTime": {
     "end_time": "2020-07-08T14:57:20.794372Z",
     "start_time": "2020-07-08T14:57:18.267383Z"
    },
    "scrolled": false,
    "slideshow": {
     "slide_type": "slide"
    }
   },
   "outputs": [
    {
     "name": "stdout",
     "output_type": "stream",
     "text": [
      "老虎机收益率:\n",
      "[0.63347486 0.14875777 0.27710719 0.95064444 0.01736183 0.08938155\n",
      " 0.95135302 0.85254521 0.68298702 0.50005527]\n",
      "最佳老虎机: 6 收益率: 0.9513530154669764\n"
     ]
    },
    {
     "data": {
      "image/png": "[encoded data removed]",
      "text/plain": [
       "<Figure size 1008x360 with 3 Axes>"
      ]
     },
     "metadata": {},
     "output_type": "display_data"
    }
   ],
   "source": [
    "K = 10\n",
    "b = Bandit(K)\n",
    "N = 20000\n",
    "ids = [0, 0.02, 0.04, 0.06, 0.08, 1]\n",
    "test_solvers = [EpsilonGreedy(b, i) for i in ids]\n",
    "names = [f\"$\\epsilon$-Greedy(b, {i})\" for i in ids]\n",
    "experiment(\"epsilon-Greedy\", b, K, N, test_solvers, names)"
   ]
  },
  {
   "cell_type": "markdown",
   "metadata": {
    "slideshow": {
     "slide_type": "slide"
    }
   },
   "source": [
    "# [Thompson采样](5.data-recs/1933-thompson.pdf)\n",
    "\n",
    "Thompson采样（Thompson Sampling）1933提出，1997年学者开始使用它解决MAB问题。\n",
    "\n",
    "由于Beta分布是伯努利分布的共轭先验分布，因此假设每个老虎机收益服从`Beta(成功次数α, 失败次数β)`先验分布，例如\n",
    "\n",
    "1. α = 1, β = 1：表示成功率50%，但不是很自信\n",
    "2. α = 1000, β = 9000：强烈认同成功率10%\n",
    "\n",
    "迭代步骤：\n",
    "1. 每次从老虎机的Beta分布抽样，选择随机数最大的老虎机i计算收益，\n",
    "2. 如果收益=1则，$\\alpha_i=\\alpha_i+1$，否则收益=0, $\\beta_i=\\beta_i+1$\n",
    "\n",
    "\n",
    "缺点：计算后验分布困难，需要借助Gibbs采样、Laplace近似和bootstraps算法计算，[参考教程](5.data-recs/ThompsonSampling.pdf)"
   ]
  },
  {
   "cell_type": "code",
   "execution_count": 9,
   "metadata": {
    "ExecuteTime": {
     "end_time": "2020-07-08T14:57:20.802988Z",
     "start_time": "2020-07-08T14:57:20.796183Z"
    },
    "slideshow": {
     "slide_type": "slide"
    }
   },
   "outputs": [],
   "source": [
    "class ThompsonSampling(Solver):\n",
    "    def __init__(self, bandit, init_a=1, init_b=1):\n",
    "        \"\"\"\n",
    "        Parameters:\n",
    "            init_a (int): Beta(a, b)初始参数a\n",
    "            init_b (int): Beta(a, b)初始参数b\n",
    "        \"\"\"\n",
    "        super(ThompsonSampling, self).__init__(bandit)\n",
    "\n",
    "        self._as = init_a * np.ones(self.bandit.n)\n",
    "        self._bs = init_b * np.ones(self.bandit.n)\n",
    "\n",
    "    @property\n",
    "    def estimated_probas(self):\n",
    "        return self._as / (self._as + self._bs)\n",
    "\n",
    "    def run_one_step(self):\n",
    "        i = np.argmax(np.random.beta(self._as, self._bs))\n",
    "        r = self.bandit.generate_reward(i)\n",
    "\n",
    "        self._as[i] += r\n",
    "        self._bs[i] += 1 - r\n",
    "\n",
    "        return i"
   ]
  },
  {
   "cell_type": "markdown",
   "metadata": {
    "slideshow": {
     "slide_type": "slide"
    }
   },
   "source": [
    "随机探索让我们有机会探索未知arm。然而，这种肆意的随机性可能导致我们因为陷入一个收益差的老虎机而终止探索（陷入过拟合）。\n",
    "\n",
    "因此，一种改进方法是随着时间增加而缩小ϵ，以降低随机性。另一种方式是优先探索不确定性高的老虎机（类似梯度下降法中使用Momentum摆脱局部最优解），"
   ]
  },
  {
   "cell_type": "markdown",
   "metadata": {
    "slideshow": {
     "slide_type": "slide"
    }
   },
   "source": [
    "# [UCB](https://towardsdatascience.com/recommender-systems-using-linucb-a-contextual-multi-armed-bandit-approach-35a6f0eb6c4)\n",
    "\n",
    "UCB(Upper Confidence Bound，置信区间上界，2002年提出）算法持续跟踪每条臂试验累计的平均收益，并计算每条摇臂的UCB。UCB表明了我们对每条摇臂收益估计的不确定性。\n",
    "\n",
    "如果有一个摇臂的上界非常高，那么说明这个摇臂潜力具有高度不确定性，因此选择手臂，也许说一个更佳的探索机会。\n",
    "\n",
    "<img src=\"5.data-recs/ucb.png\" alt=\"map\" width=\"600\"/>\n",
    "\n",
    "\n",
    "\n",
    "虽然摇臂3取得的平均收益更高，但是UCB算法会选择摇臂2，因为它的潜力不确定性UCB更大。"
   ]
  },
  {
   "cell_type": "code",
   "execution_count": 10,
   "metadata": {
    "ExecuteTime": {
     "end_time": "2020-07-08T14:57:20.815569Z",
     "start_time": "2020-07-08T14:57:20.806177Z"
    },
    "slideshow": {
     "slide_type": "slide"
    }
   },
   "outputs": [],
   "source": [
    "class UCB1(Solver):\n",
    "    def __init__(self, bandit, init_proba=1):\n",
    "        super(UCB1, self).__init__(bandit)\n",
    "        self.t = 0\n",
    "        self.estimates = init_proba * np.ones(self.bandit.n)\n",
    "\n",
    "    @property\n",
    "    def estimated_probas(self):\n",
    "        return self.estimates\n",
    "\n",
    "    def run_one_step(self):\n",
    "        self.t += 1\n",
    "        # 从置信区间上界选择最佳arm\n",
    "        i = np.argmax(self.estimates + np.sqrt(2 * np.log(self.t) / (1 + self.counts)))\n",
    "        r = self.bandit.generate_reward(i)\n",
    "        self.estimates[i] += 1 / (self.counts[i] + 1) * (r - self.estimates[i])\n",
    "        return i"
   ]
  },
  {
   "cell_type": "markdown",
   "metadata": {
    "slideshow": {
     "slide_type": "slide"
    }
   },
   "source": [
    "# 贝叶斯UCB"
   ]
  },
  {
   "cell_type": "code",
   "execution_count": 11,
   "metadata": {
    "ExecuteTime": {
     "end_time": "2020-07-08T14:57:20.826278Z",
     "start_time": "2020-07-08T14:57:20.818422Z"
    },
    "slideshow": {
     "slide_type": "-"
    }
   },
   "outputs": [],
   "source": [
    "class BayesianUCB(Solver):\n",
    "    \"\"\"假设先验概率服从Beta分布\"\"\"\n",
    "    def __init__(self, bandit, c=3, init_a=1, init_b=1):\n",
    "        \"\"\"\n",
    "        Parameters:\n",
    "            c (float): 置信区间上界标准差扩展系数\n",
    "            init_a (int): Beta(a, b)参数a\n",
    "            init_b (int): Beta(a, b)参数b\n",
    "        \"\"\"\n",
    "        super(BayesianUCB, self).__init__(bandit)\n",
    "        self.c = c\n",
    "        self._as = init_a * np.ones(self.bandit.n)\n",
    "        self._bs = init_b * np.ones(self.bandit.n)\n",
    "    @property\n",
    "    def estimated_probas(self):\n",
    "        return self._as / (self._as + self._bs)\n",
    "    def run_one_step(self):\n",
    "        i = np.argmax(\n",
    "            self._as / (self._as + self._bs)\n",
    "            + stats.beta.std(self._as, self._bs) * self.c\n",
    "        )\n",
    "        r = self.bandit.generate_reward(i)\n",
    "        # 更新后验分布\n",
    "        self._as[i] += r\n",
    "        self._bs[i] += 1 - r\n",
    "        return i"
   ]
  },
  {
   "cell_type": "code",
   "execution_count": 12,
   "metadata": {
    "ExecuteTime": {
     "end_time": "2020-07-08T14:57:25.647313Z",
     "start_time": "2020-07-08T14:57:20.829588Z"
    },
    "slideshow": {
     "slide_type": "slide"
    }
   },
   "outputs": [
    {
     "name": "stdout",
     "output_type": "stream",
     "text": [
      "老虎机收益率:\n",
      "[0.63347486 0.14875777 0.27710719 0.95064444 0.01736183 0.08938155\n",
      " 0.95135302 0.85254521 0.68298702 0.50005527]\n",
      "最佳老虎机: 6 收益率: 0.9513530154669764\n"
     ]
    },
    {
     "data": {
      "image/png": "[encoded data removed]",
      "text/plain": [
       "<Figure size 1008x360 with 3 Axes>"
      ]
     },
     "metadata": {},
     "output_type": "display_data"
    }
   ],
   "source": [
    "test_solvers = [\n",
    "    EpsilonGreedy(b, 0.01),\n",
    "    UCB1(b),\n",
    "    BayesianUCB(b, 3, 1, 1),\n",
    "    ThompsonSampling(b, 1, 1),\n",
    "]\n",
    "names = [\n",
    "    r\"$\\epsilon$-Greedy\",\n",
    "    \"UCB1\",\n",
    "    \"贝叶斯UCB\",\n",
    "    \"Thompson采样\",\n",
    "]\n",
    "experiment(\"epsilon-Greedy\", b, K, N, test_solvers, names)"
   ]
  },
  {
   "cell_type": "markdown",
   "metadata": {
    "slideshow": {
     "slide_type": "slide"
    }
   },
   "source": [
    "然而，由于UCB算法未考虑用户关联特征(上下文)，包括用户的历史行为、人口统计信息等。因此，\n",
    "\n",
    "1. 2010年，Yahoo!提出[LinUCB](http://rob.schapire.net/papers/www10.pdf)，引入特征向量，对UCB进行改进，提升Yahoo!首页12.5%的点击量。[github代码实现](https://github.com/appurwar/Contextual-Bandit-News-Article-Recommendation)\n",
    "2. 2020年2月，美国康奈尔大学与阿里巴巴共同提出了[PSLinUCB (Piecewise-Stationary LinUCB, AAAI20)](https://arxiv.org/pdf/2003.00359.pdf)，解决了LinUCB没有考虑用户兴趣会随着时间发生变化的问题。\n",
    "\n",
    "<img src=\"5.data-recs/PSLinUSB.png\" alt=\"map\" width=\"1000\"/>\n"
   ]
  },
  {
   "cell_type": "markdown",
   "metadata": {
    "slideshow": {
     "slide_type": "slide"
    }
   },
   "source": [
    "# LinUCB示例\n",
    "\n",
    "[MABWiser](https://fidelity.github.io/)是一个MAB算法快速原型库。它支持上下文无关（context-free）、无参数上下文（non-parametric contextual，例如UCB1）、参数上下文（parametric contextual，例如LinUCB）bandit模型，支持训练和测试并行化、超参数调优、仿真等实用功能。\n",
    "\n",
    "<img src=\"5.data-recs/online.png\" alt=\"map\" width=\"700\"/>"
   ]
  },
  {
   "cell_type": "code",
   "execution_count": 13,
   "metadata": {
    "ExecuteTime": {
     "end_time": "2020-07-08T14:57:25.663902Z",
     "start_time": "2020-07-08T14:57:25.649412Z"
    },
    "slideshow": {
     "slide_type": "slide"
    }
   },
   "outputs": [
    {
     "data": {
      "text/html": [
       "<div>\n",
       "<style scoped>\n",
       "    .dataframe tbody tr th:only-of-type {\n",
       "        vertical-align: middle;\n",
       "    }\n",
       "\n",
       "    .dataframe tbody tr th {\n",
       "        vertical-align: top;\n",
       "    }\n",
       "\n",
       "    .dataframe thead th {\n",
       "        text-align: right;\n",
       "    }\n",
       "</style>\n",
       "<table border=\"1\" class=\"dataframe\">\n",
       "  <thead>\n",
       "    <tr style=\"text-align: right;\">\n",
       "      <th></th>\n",
       "      <th>ad</th>\n",
       "      <th>revenues</th>\n",
       "      <th>age</th>\n",
       "      <th>click_rate</th>\n",
       "      <th>subscriber</th>\n",
       "    </tr>\n",
       "  </thead>\n",
       "  <tbody>\n",
       "    <tr>\n",
       "      <th>0</th>\n",
       "      <td>1</td>\n",
       "      <td>10</td>\n",
       "      <td>22</td>\n",
       "      <td>0.20</td>\n",
       "      <td>1</td>\n",
       "    </tr>\n",
       "    <tr>\n",
       "      <th>1</th>\n",
       "      <td>1</td>\n",
       "      <td>17</td>\n",
       "      <td>27</td>\n",
       "      <td>0.60</td>\n",
       "      <td>0</td>\n",
       "    </tr>\n",
       "    <tr>\n",
       "      <th>2</th>\n",
       "      <td>1</td>\n",
       "      <td>22</td>\n",
       "      <td>39</td>\n",
       "      <td>0.99</td>\n",
       "      <td>1</td>\n",
       "    </tr>\n",
       "    <tr>\n",
       "      <th>3</th>\n",
       "      <td>2</td>\n",
       "      <td>9</td>\n",
       "      <td>48</td>\n",
       "      <td>0.68</td>\n",
       "      <td>0</td>\n",
       "    </tr>\n",
       "    <tr>\n",
       "      <th>4</th>\n",
       "      <td>4</td>\n",
       "      <td>4</td>\n",
       "      <td>21</td>\n",
       "      <td>0.15</td>\n",
       "      <td>1</td>\n",
       "    </tr>\n",
       "    <tr>\n",
       "      <th>5</th>\n",
       "      <td>5</td>\n",
       "      <td>20</td>\n",
       "      <td>20</td>\n",
       "      <td>0.23</td>\n",
       "      <td>0</td>\n",
       "    </tr>\n",
       "    <tr>\n",
       "      <th>6</th>\n",
       "      <td>3</td>\n",
       "      <td>7</td>\n",
       "      <td>19</td>\n",
       "      <td>0.75</td>\n",
       "      <td>1</td>\n",
       "    </tr>\n",
       "  </tbody>\n",
       "</table>\n",
       "</div>"
      ],
      "text/plain": [
       "   ad  revenues  age  click_rate  subscriber\n",
       "0   1        10   22        0.20           1\n",
       "1   1        17   27        0.60           0\n",
       "2   1        22   39        0.99           1\n",
       "3   2         9   48        0.68           0\n",
       "4   4         4   21        0.15           1\n",
       "5   5        20   20        0.23           0\n",
       "6   3         7   19        0.75           1"
      ]
     },
     "execution_count": 13,
     "metadata": {},
     "output_type": "execute_result"
    }
   ],
   "source": [
    "# Arms\n",
    "ads = [1, 2, 3, 4, 5]\n",
    "# 特征\n",
    "train_df = pd.DataFrame({\n",
    "        \"ad\": [1, 1, 1, 2, 4, 5, 3, 3, 2, 1, 4, 5, 3, 2, 5],\n",
    "        \"revenues\": [10, 17, 22, 9, 4, 20, 7, 8, 20, 9, 50, 5, 7, 12, 10],\n",
    "        \"age\": [22, 27, 39, 48, 21, 20, 19, 37, 52, 26, 18, 42, 55, 57, 38],\n",
    "        \"click_rate\": [0.2,0.6,0.99,0.68,0.15,0.23,0.75,0.17,0.33,0.65,0.56,0.22,0.19,0.11,0.83],\n",
    "        \"subscriber\": [1, 0, 1, 0, 1, 0, 1, 1, 1, 0, 1, 1, 0, 1, 0]\n",
    "})\n",
    "train_df.head(7)"
   ]
  },
  {
   "cell_type": "code",
   "execution_count": 14,
   "metadata": {
    "ExecuteTime": {
     "end_time": "2020-07-08T14:57:25.674685Z",
     "start_time": "2020-07-08T14:57:25.665589Z"
    },
    "scrolled": true
   },
   "outputs": [
    {
     "data": {
      "text/html": [
       "<div>\n",
       "<style scoped>\n",
       "    .dataframe tbody tr th:only-of-type {\n",
       "        vertical-align: middle;\n",
       "    }\n",
       "\n",
       "    .dataframe tbody tr th {\n",
       "        vertical-align: top;\n",
       "    }\n",
       "\n",
       "    .dataframe thead th {\n",
       "        text-align: right;\n",
       "    }\n",
       "</style>\n",
       "<table border=\"1\" class=\"dataframe\">\n",
       "  <thead>\n",
       "    <tr style=\"text-align: right;\">\n",
       "      <th></th>\n",
       "      <th>age</th>\n",
       "      <th>click_rate</th>\n",
       "      <th>subscriber</th>\n",
       "    </tr>\n",
       "  </thead>\n",
       "  <tbody>\n",
       "    <tr>\n",
       "      <th>0</th>\n",
       "      <td>37</td>\n",
       "      <td>0.5</td>\n",
       "      <td>0</td>\n",
       "    </tr>\n",
       "    <tr>\n",
       "      <th>1</th>\n",
       "      <td>52</td>\n",
       "      <td>0.6</td>\n",
       "      <td>1</td>\n",
       "    </tr>\n",
       "  </tbody>\n",
       "</table>\n",
       "</div>"
      ],
      "text/plain": [
       "   age  click_rate  subscriber\n",
       "0   37         0.5           0\n",
       "1   52         0.6           1"
      ]
     },
     "execution_count": 14,
     "metadata": {},
     "output_type": "execute_result"
    }
   ],
   "source": [
    "test_df = pd.DataFrame({\"age\": [37, 52], \"click_rate\": [0.5, 0.6], \"subscriber\": [0, 1]})\n",
    "test_df"
   ]
  },
  {
   "cell_type": "code",
   "execution_count": 15,
   "metadata": {
    "ExecuteTime": {
     "end_time": "2020-07-08T14:57:25.694950Z",
     "start_time": "2020-07-08T14:57:25.677456Z"
    },
    "slideshow": {
     "slide_type": "slide"
    }
   },
   "outputs": [],
   "source": [
    "# 标准化预处理\n",
    "scaler = StandardScaler()\n",
    "train = scaler.fit_transform(train_df[[\"age\", \"click_rate\", \"subscriber\"]])\n",
    "test = scaler.transform(test_df)"
   ]
  },
  {
   "cell_type": "code",
   "execution_count": 16,
   "metadata": {
    "ExecuteTime": {
     "end_time": "2020-07-08T14:57:25.715081Z",
     "start_time": "2020-07-08T14:57:25.698283Z"
    }
   },
   "outputs": [
    {
     "name": "stdout",
     "output_type": "stream",
     "text": [
      "LinUCB预测结果: [5, 2]\n"
     ]
    }
   ],
   "source": [
    "# LinUCB模型参数alpha=1.25\n",
    "linucb = MAB(arms=ads, learning_policy=LearningPolicy.LinUCB(alpha=1.25))\n",
    "\n",
    "# 基于历史广告点击和效益数据进行训练\n",
    "linucb.fit(decisions=train_df[\"ad\"], rewards=train_df[\"revenues\"], contexts=train)\n",
    "\n",
    "# 预测展示的广告\n",
    "prediction = linucb.predict(test)\n",
    "\n",
    "print(f\"LinUCB预测结果: {prediction}\")"
   ]
  },
  {
   "cell_type": "code",
   "execution_count": 17,
   "metadata": {
    "ExecuteTime": {
     "end_time": "2020-07-08T14:57:25.739273Z",
     "start_time": "2020-07-08T14:57:25.717806Z"
    }
   },
   "outputs": [
    {
     "data": {
      "text/html": [
       "<div>\n",
       "<style scoped>\n",
       "    .dataframe tbody tr th:only-of-type {\n",
       "        vertical-align: middle;\n",
       "    }\n",
       "\n",
       "    .dataframe tbody tr th {\n",
       "        vertical-align: top;\n",
       "    }\n",
       "\n",
       "    .dataframe thead th {\n",
       "        text-align: right;\n",
       "    }\n",
       "</style>\n",
       "<table border=\"1\" class=\"dataframe\">\n",
       "  <thead>\n",
       "    <tr style=\"text-align: right;\">\n",
       "      <th></th>\n",
       "      <th>1</th>\n",
       "      <th>2</th>\n",
       "      <th>3</th>\n",
       "      <th>4</th>\n",
       "      <th>5</th>\n",
       "    </tr>\n",
       "  </thead>\n",
       "  <tbody>\n",
       "    <tr>\n",
       "      <th>0</th>\n",
       "      <td>-1.309401</td>\n",
       "      <td>0.105144</td>\n",
       "      <td>-1.912977</td>\n",
       "      <td>-10.291130</td>\n",
       "      <td>9.665161</td>\n",
       "    </tr>\n",
       "    <tr>\n",
       "      <th>1</th>\n",
       "      <td>-4.524479</td>\n",
       "      <td>14.652897</td>\n",
       "      <td>4.524684</td>\n",
       "      <td>-3.257354</td>\n",
       "      <td>-8.684806</td>\n",
       "    </tr>\n",
       "  </tbody>\n",
       "</table>\n",
       "</div>"
      ],
      "text/plain": [
       "          1          2         3          4         5\n",
       "0 -1.309401   0.105144 -1.912977 -10.291130  9.665161\n",
       "1 -4.524479  14.652897  4.524684  -3.257354 -8.684806"
      ]
     },
     "execution_count": 17,
     "metadata": {},
     "output_type": "execute_result"
    }
   ],
   "source": [
    "# 每个arm的期望收益\n",
    "pd.DataFrame.from_dict(linucb.predict_expectations(test))"
   ]
  },
  {
   "cell_type": "code",
   "execution_count": 18,
   "metadata": {
    "ExecuteTime": {
     "end_time": "2020-07-08T14:57:25.754550Z",
     "start_time": "2020-07-08T14:57:25.741659Z"
    },
    "slideshow": {
     "slide_type": "slide"
    }
   },
   "outputs": [
    {
     "data": {
      "text/plain": [
       "[1, 2, 3, 4, 5, 6]"
      ]
     },
     "execution_count": 18,
     "metadata": {},
     "output_type": "execute_result"
    }
   ],
   "source": [
    "# 上一轮决策产生的真实收益\n",
    "test_df_revenue = pd.Series([7, 13])\n",
    "# 在线更新模型\n",
    "linucb.partial_fit(decisions=prediction, rewards=test_df_revenue, contexts=test)\n",
    "\n",
    "# 增加arm\n",
    "linucb.add_arm(6)\n",
    "\n",
    "linucb.arms"
   ]
  },
  {
   "cell_type": "markdown",
   "metadata": {
    "slideshow": {
     "slide_type": "slide"
    }
   },
   "source": [
    "参考资料:\n",
    "\n",
    "1.[multi-armed bandit problem，MAB](https://en.wikipedia.org/wiki/Multi-armed_bandit)  \n",
    "2.[The Multi-Armed Bandit Problem and Its Solutions](https://lilianweng.github.io/lil-log/2018/01/23/the-multi-armed-bandit-problem-and-its-solutions.html#bayesian-ucb)  \n",
    "3.[Bandit Algorithms for Website Optimization](Bandit_Algorithms_for_Website_Optimization.pdf)  \n",
    "4.[Bandit 算法与推荐系统](https://cosx.org/2017/05/bandit-and-recommender-systems/)  \n",
    "5.[Recommender systems using LinUCB: A contextual multi-armed bandit approach](https://towardsdatascience.com/recommender-systems-using-linucb-a-contextual-multi-armed-bandit-approach-35a6f0eb6c4)"
   ]
  }
 ],
 "metadata": {
  "celltoolbar": "幻灯片",
  "kernelspec": {
   "display_name": "Python 3",
   "language": "python",
   "name": "python3"
  },
  "language_info": {
   "codemirror_mode": {
    "name": "ipython",
    "version": 3
   },
   "file_extension": ".py",
   "mimetype": "text/x-python",
   "name": "python",
   "nbconvert_exporter": "python",
   "pygments_lexer": "ipython3",
   "version": "3.7.7"
  },
  "toc": {
   "base_numbering": 1,
   "nav_menu": {},
   "number_sections": true,
   "sideBar": true,
   "skip_h1_title": false,
   "title_cell": "Table of Contents",
   "title_sidebar": "Contents",
   "toc_cell": false,
   "toc_position": {
    "height": "calc(100% - 180px)",
    "left": "10px",
    "top": "150px",
    "width": "336px"
   },
   "toc_section_display": true,
   "toc_window_display": false
  }
 },
 "nbformat": 4,
 "nbformat_minor": 4
}
